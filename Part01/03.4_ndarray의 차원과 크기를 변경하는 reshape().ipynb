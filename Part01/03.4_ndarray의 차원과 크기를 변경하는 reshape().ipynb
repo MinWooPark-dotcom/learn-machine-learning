{
 "cells": [
  {
   "cell_type": "code",
   "execution_count": 1,
   "metadata": {},
   "outputs": [],
   "source": [
    "import numpy as np"
   ]
  },
  {
   "cell_type": "code",
   "execution_count": 2,
   "metadata": {},
   "outputs": [
    {
     "name": "stdout",
     "output_type": "stream",
     "text": [
      "array1:\n",
      " [0 1 2 3 4 5 6 7 8 9]\n"
     ]
    }
   ],
   "source": [
    "array1 = np.arange(10)\n",
    "print('array1:\\n', array1)"
   ]
  },
  {
   "cell_type": "code",
   "execution_count": 3,
   "metadata": {},
   "outputs": [
    {
     "name": "stdout",
     "output_type": "stream",
     "text": [
      "array2:\n",
      " [[0 1 2 3 4]\n",
      " [5 6 7 8 9]]\n"
     ]
    }
   ],
   "source": [
    "array2 = array1.reshape(2, 5)\n",
    "print('array2:\\n', array2)"
   ]
  },
  {
   "cell_type": "code",
   "execution_count": 4,
   "metadata": {},
   "outputs": [
    {
     "name": "stdout",
     "output_type": "stream",
     "text": [
      "array3:\n",
      " [[0 1]\n",
      " [2 3]\n",
      " [4 5]\n",
      " [6 7]\n",
      " [8 9]]\n"
     ]
    }
   ],
   "source": [
    "array3 = array1.reshape(5, 2)\n",
    "print('array3:\\n', array3)"
   ]
  },
  {
   "cell_type": "code",
   "execution_count": 10,
   "metadata": {},
   "outputs": [
    {
     "name": "stdout",
     "output_type": "stream",
     "text": [
      "[0 1 2 3 4 5 6 7 8 9]\n",
      "array2.shape: (2, 5)\n",
      "array3 shape: (5, 2)\n"
     ]
    }
   ],
   "source": [
    "array1 = np.arange(10)\n",
    "print(array1)\n",
    "array2 = array1.reshape(-1, 5)\n",
    "print('array2.shape:', array2.shape)\n",
    "array3 = array1.reshape(5, -1)\n",
    "print('array3 shape:', array3.shape)"
   ]
  },
  {
   "cell_type": "code",
   "execution_count": 11,
   "metadata": {},
   "outputs": [
    {
     "name": "stdout",
     "output_type": "stream",
     "text": [
      "array3d:\n",
      " [[[0, 1], [2, 3]], [[4, 5], [6, 7]]]\n"
     ]
    }
   ],
   "source": [
    "array1 = np.arange(8)\n",
    "array3d = array1.reshape((2, 2, 2))\n",
    "print('array3d:\\n', array3d.tolist())"
   ]
  },
  {
   "cell_type": "code",
   "execution_count": 14,
   "metadata": {},
   "outputs": [
    {
     "name": "stdout",
     "output_type": "stream",
     "text": [
      "[[[0 1]\n",
      "  [2 3]]\n",
      "\n",
      " [[4 5]\n",
      "  [6 7]]]\n",
      "\n",
      "\n",
      "array5:\n",
      " [[0], [1], [2], [3], [4], [5], [6], [7]]\n",
      "array5 shape: (8, 1)\n"
     ]
    }
   ],
   "source": [
    "# 3차원 ndarray를 2차원 ndarray로 변환\n",
    "print(array3d) # 3차원 ndarray\n",
    "print('\\n')\n",
    "array5 = array3d.reshape(-1, 1)\n",
    "print('array5:\\n', array5.tolist())\n",
    "print('array5 shape:', array5.shape)"
   ]
  },
  {
   "cell_type": "code",
   "execution_count": 15,
   "metadata": {},
   "outputs": [
    {
     "name": "stdout",
     "output_type": "stream",
     "text": [
      "array6:\n",
      " [[0], [1], [2], [3], [4], [5], [6], [7]]\n",
      "array6 shape: (8, 1)\n"
     ]
    }
   ],
   "source": [
    "# 1차원 ndarray를 2차원 ndarray로 변환\n",
    "array6 = array1.reshape(-1, 1)\n",
    "print('array6:\\n', array6.tolist())\n",
    "print('array6 shape:', array6.shape)"
   ]
  },
  {
   "cell_type": "code",
   "execution_count": null,
   "metadata": {},
   "outputs": [],
   "source": []
  }
 ],
 "metadata": {
  "kernelspec": {
   "display_name": "Python 3",
   "language": "python",
   "name": "python3"
  },
  "language_info": {
   "codemirror_mode": {
    "name": "ipython",
    "version": 3
   },
   "file_extension": ".py",
   "mimetype": "text/x-python",
   "name": "python",
   "nbconvert_exporter": "python",
   "pygments_lexer": "ipython3",
   "version": "3.8.5"
  }
 },
 "nbformat": 4,
 "nbformat_minor": 4
}
